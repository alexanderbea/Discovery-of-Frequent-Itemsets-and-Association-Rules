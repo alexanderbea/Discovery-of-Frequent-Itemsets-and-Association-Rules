{
 "cells": [
  {
   "cell_type": "markdown",
   "metadata": {
    "id": "hw9weIQtb8Q1"
   },
   "source": [
    "# Discovery of Frequent Itemsets and Association Rules"
   ]
  },
  {
   "cell_type": "code",
   "execution_count": null,
   "metadata": {
    "colab": {
     "base_uri": "https://localhost:8080/"
    },
    "id": "aLmkVo_4ZAYT",
    "outputId": "55031595-434b-4dec-99fe-f854fc109777"
   },
   "outputs": [
    {
     "name": "stdout",
     "output_type": "stream",
     "text": [
      "Drive already mounted at /content/drive/; to attempt to forcibly remount, call drive.mount(\"/content/drive/\", force_remount=True).\n"
     ]
    }
   ],
   "source": [
    "from google.colab import drive\n",
    "drive.mount('/content/drive/')\n",
    "\n",
    "runExampleFromClass = False # True for lecture example, slide 43\n",
    "s_threshold = 1000 # 2 for lecture example or 1000 for large data set \n",
    "\n",
    "if runExampleFromClass:\n",
    "  file_source = '/content/../Example In Class.txt'\n",
    "else:\n",
    "  file_source = '/content/../T10I4D100K.dat'"
   ]
  },
  {
   "cell_type": "code",
   "execution_count": null,
   "metadata": {
    "id": "vZFEcGcabBFu"
   },
   "outputs": [],
   "source": [
    "lines = []\n",
    "sets = []\n",
    "for line in open(file_source, 'r'):\n",
    "  line = line.replace(\"\\n\",\"\").strip() \n",
    "  lines.append(line)\n",
    "  sets.append(set(line.split(\" \")))"
   ]
  },
  {
   "cell_type": "code",
   "execution_count": null,
   "metadata": {
    "id": "hZ8PUI0feiWQ"
   },
   "outputs": [],
   "source": [
    "if runExampleFromClass:\n",
    "  for s in sets:\n",
    "    print(s)"
   ]
  },
  {
   "cell_type": "markdown",
   "metadata": {
    "id": "qUV9LHa9hkfj"
   },
   "source": [
    "1st scan"
   ]
  },
  {
   "cell_type": "code",
   "execution_count": null,
   "metadata": {
    "id": "CkjOmxb9fuZI"
   },
   "outputs": [],
   "source": [
    "#AB: Pass 1: Read baskets and count in main memory the occurrences of each individual item\n",
    "itemsets = {}\n",
    "#create the singletons: count how often each item occurs\n",
    "for se in sets: #per each transaction set\n",
    "  for itemset in se: #per each item per each set\n",
    "    if itemset not in itemsets: \n",
    "        itemsets[itemset] = 1\n",
    "    else: \n",
    "      itemsets[itemset] += 1\n",
    "\n",
    "if runExampleFromClass:\n",
    "  print(itemsets)"
   ]
  },
  {
   "cell_type": "markdown",
   "metadata": {
    "id": "GPinGZ0hijsK"
   },
   "source": [
    "Now, apply threshold and create L1"
   ]
  },
  {
   "cell_type": "code",
   "execution_count": null,
   "metadata": {
    "id": "OE2omiL2iGGM"
   },
   "outputs": [],
   "source": [
    "itemSetsOverThreshold = {}\n",
    "singletons = []\n",
    "for itemset, sup in itemsets.items():\n",
    "  if sup >= s_threshold: \n",
    "    singletons.append(itemset)\n",
    "    # itemSetsOverThreshold[itemset]= sup #set frozenset i.e. elements are immutable\n",
    "    itemSetsOverThreshold[frozenset([itemset])]= sup #set frozenset i.e. elements are immutable\n",
    "\n",
    "if runExampleFromClass:\n",
    "  print(itemSetsOverThreshold)\n",
    "  print(singletons)"
   ]
  },
  {
   "cell_type": "markdown",
   "metadata": {
    "id": "vILlD3Nll6lJ"
   },
   "source": [
    "Now let's do this iteratively for 3 scans"
   ]
  },
  {
   "cell_type": "code",
   "execution_count": null,
   "metadata": {
    "id": "Azi0nCOi-J3y"
   },
   "outputs": [],
   "source": [
    "import itertools as it"
   ]
  },
  {
   "cell_type": "code",
   "execution_count": null,
   "metadata": {
    "id": "yHvnVIAYMj9j"
   },
   "outputs": [],
   "source": [
    "result = []\n",
    "result += [itemSetsOverThreshold] #add the singletons\n",
    "\n",
    "resultdictionary = {}\n",
    "for itemset, sup in itemSetsOverThreshold.items():\n",
    "  resultdictionary[itemset] = sup \n",
    "\n",
    "numberOfScans = 2 #only need two more since we already did one scan earlier"
   ]
  },
  {
   "cell_type": "code",
   "execution_count": null,
   "metadata": {
    "id": "hj3Np24tiZUi"
   },
   "outputs": [],
   "source": [
    "#Create all combination  of doubletons, tripletons and saves how frequent respective occurs over threshold\n",
    "for index in range(1,numberOfScans+1): #for each scan\n",
    "  combinationsets = {}\n",
    "\n",
    "  # print(itemSetsOverThreshold)  \n",
    "\n",
    "  #Create combination between the itemSetsOverThreshold combo[0] e.g. = {'C', 'A'} and the respecitve singletons e.g. C to  {'C','A'] or with E to {'E', 'C', 'A'}\n",
    "    #save these combination with starting counter = 0\n",
    "  for combo in ((itemkeys,singeltonekeys) for itemkeys in itemSetsOverThreshold.keys() for singeltonekeys in singletons):\n",
    "    cand = combo[0] | frozenset([combo[1]]) #has to be frozen, otherwise unhashable in next step; union removes duplicates between sets like in the example in previous comment\n",
    "    combinationsets[cand] = 0 #give 0 as starting value before counting\n",
    "    #it serves as a list where we will keep track of how often candidates occur, this will be done in the next part\n",
    "    \n",
    "  #get all of the keys from the combination i.e. without the counter  \n",
    "  comb_keys = set(combinationsets.keys())\n",
    "\n",
    "  #Create combination of the transction items with regard to the size of the basket (index+1)\n",
    "  #Loop throught the transactions line by line e.g. first line sa = {'D', 'C', 'A'} and create combinations of them\n",
    "  for sa in sets:\n",
    "    getAllCombinationsOfSet = set(frozenset(i) for i in it.combinations(sa, 1+index)) #create various combination of the transction items with regard to the size of the basket (index+1)\n",
    "\n",
    "    ###################################### NEW PART: START\n",
    "    getAllCombinationsOfSet_copy = getAllCombinationsOfSet.copy() #make a copy so that we can discard supersets of which subsets have already been discarded\n",
    "    #loop through all combinations \n",
    "    for i in getAllCombinationsOfSet:\n",
    "      for trans in i:\n",
    "        if frozenset([trans]) not in resultdictionary.keys(): #resultdictionary are the k-1 subsets, the next batch is saved in the end of this script-block\n",
    "          getAllCombinationsOfSet_copy.discard(i)  #delete supersets of which subsets have already been discarded\n",
    "\n",
    "    if runExampleFromClass:\n",
    "      print(\"============== BEFORE DISCARDING SUPERSETS ======================\")\n",
    "      print(getAllCombinationsOfSet)\n",
    "      print(\"============== AFTER DISCARDING SUPERSETS ======================\")\n",
    "      print(getAllCombinationsOfSet_copy)\n",
    "    ###################################### NEW PART: END\n",
    "\n",
    "    # example {'D', 'C', 'A'} and basket size 2 (1+[index=1]) = {{'D', 'C'}, {'C', 'A'}, {'D', 'A'}\n",
    "    intersection = (comb_keys & getAllCombinationsOfSet_copy) # now, check if any of the combinations of the transactions intersect with all of the variuos combinationsets\n",
    "    for commonKey in intersection:\n",
    "      combinationsets[commonKey] += 1 #\n",
    "\n",
    "\n",
    "  itemSetsOverThreshold = {} #empty it for every loop\n",
    "  #save the pairs that are over the threshold\n",
    "  for itemset, sup in combinationsets.items():\n",
    "      if sup >= s_threshold:\n",
    "        itemSetsOverThreshold[itemset] = sup # save the ones over the threshold\n",
    "\n",
    "  result+=[itemSetsOverThreshold] \n",
    "\n",
    "  for itemset, sup in itemSetsOverThreshold.items():\n",
    "    resultdictionary[itemset] = sup "
   ]
  },
  {
   "cell_type": "code",
   "execution_count": null,
   "metadata": {
    "colab": {
     "base_uri": "https://localhost:8080/"
    },
    "id": "OH6UocNLFs5q",
    "outputId": "e6232157-057c-43d0-ddf6-7d9a2b45a74e"
   },
   "outputs": [
    {
     "data": {
      "text/plain": [
       "[{frozenset({'368', '682'}): 1193,\n",
       "  frozenset({'368', '829'}): 1194,\n",
       "  frozenset({'39', '825'}): 1187,\n",
       "  frozenset({'704', '825'}): 1102,\n",
       "  frozenset({'39', '704'}): 1107,\n",
       "  frozenset({'227', '390'}): 1049,\n",
       "  frozenset({'390', '722'}): 1042,\n",
       "  frozenset({'217', '346'}): 1336,\n",
       "  frozenset({'789', '829'}): 1194},\n",
       " {frozenset({'39', '704', '825'}): 1035}]"
      ]
     },
     "execution_count": 776,
     "metadata": {
      "tags": []
     },
     "output_type": "execute_result"
    }
   ],
   "source": [
    "result[-2:] #don't show singletons, only doubletons and triplet"
   ]
  },
  {
   "cell_type": "markdown",
   "metadata": {
    "id": "-QXTl7q2P4Ji"
   },
   "source": [
    "Generating association rules with confidence at least c from the itemsets found in the first step."
   ]
  },
  {
   "cell_type": "code",
   "execution_count": null,
   "metadata": {
    "id": "ld-lnMVcY7Zx"
   },
   "outputs": [],
   "source": [
    "conf_threshold=0.5\n",
    "rules = []\n",
    "\n",
    "for idx, itemsets in enumerate(result[1:]): #run through doubletons, triplets\n",
    "  # e.g doubletons-set {{'C', 'A'}: 2, {'E', 'C'}: 2, {'B', 'C'}: 2, {'E', 'B'}: 3}\n",
    "  if runExampleFromClass:\n",
    "    print(\"itemset: \"+ str(itemsets)) \n",
    "  for itemset, support in itemsets.items(): #set the number of transactions to the support needed as per slides \n",
    "    # e.g itemset = {'C', 'A'} and support = 2\n",
    "    if runExampleFromClass:    \n",
    "      print(\"itemset: \"+ str(itemset)) \n",
    "    for i in range(len(itemset) - 1): #loop over each item in the itemset\n",
    "      if runExampleFromClass:\n",
    "        print(\"range of itemset: \"+ str(i+1)) \n",
    "      for combo in list(it.combinations(itemset, i + 1)): #Itertools to create every combinations of itemset of lenght i+1\n",
    "        if runExampleFromClass:  \n",
    "          print(\"combo: \" + str(combo))\n",
    "        combo = frozenset(combo) #make it immutable \n",
    "        if runExampleFromClass:\n",
    "          print(\"if: \" + str(result[len(combo) - 1][combo]))\n",
    "        \n",
    "        if result[len(combo) - 1][combo] is not None: #if there is a support value at e.g. result[0][frozenset('C')] = 3 then calculate confidence\n",
    "          confidence = support / result[len(combo) - 1][combo] #calculate confidence\n",
    "          if runExampleFromClass:  \n",
    "            print(\"confidence: \" + str(confidence))\n",
    "          \n",
    "          if confidence >= conf_threshold: #check if confidence is over threshold\n",
    "            rules.append((combo, itemset - combo, confidence, support))\n",
    "            if runExampleFromClass:  \n",
    "              print(\"rules- combo:\" + str(combo)+\" itemset wihtout combo: \" +str(itemset - combo) +\" confidence: \" +str(confidence)+\" support: \" +str(support)  )  "
   ]
  },
  {
   "cell_type": "code",
   "execution_count": null,
   "metadata": {
    "colab": {
     "base_uri": "https://localhost:8080/"
    },
    "id": "ON4GZv-v_ZuK",
    "outputId": "38944c9e-8dfc-4fe6-c0ba-95982e8cdcdd"
   },
   "outputs": [
    {
     "name": "stdout",
     "output_type": "stream",
     "text": [
      "(frozenset({'704'}), frozenset({'825'}), 0.6142697881828316, 1102)\n",
      "(frozenset({'704'}), frozenset({'39'}), 0.617056856187291, 1107)\n",
      "(frozenset({'227'}), frozenset({'390'}), 0.577007700770077, 1049)\n",
      "(frozenset({'704'}), frozenset({'825', '39'}), 0.5769230769230769, 1035)\n",
      "(frozenset({'825', '704'}), frozenset({'39'}), 0.9392014519056261, 1035)\n",
      "(frozenset({'825', '39'}), frozenset({'704'}), 0.8719460825610783, 1035)\n",
      "(frozenset({'704', '39'}), frozenset({'825'}), 0.9349593495934959, 1035)\n"
     ]
    }
   ],
   "source": [
    "#The following itemsets appear more than 50% of the time; If <rules> appears in a basket then they are likely to contain.. \n",
    "for i in rules: \n",
    "  print(i)"
   ]
  }
 ],
 "metadata": {
  "colab": {
   "collapsed_sections": [],
   "name": "Homework_2_Notebook,_Group_44_Marvin_&_Alex.ipynb",
   "provenance": []
  },
  "kernelspec": {
   "display_name": "Python 3",
   "language": "python",
   "name": "python3"
  },
  "language_info": {
   "codemirror_mode": {
    "name": "ipython",
    "version": 3
   },
   "file_extension": ".py",
   "mimetype": "text/x-python",
   "name": "python",
   "nbconvert_exporter": "python",
   "pygments_lexer": "ipython3",
   "version": "3.7.4"
  }
 },
 "nbformat": 4,
 "nbformat_minor": 1
}
